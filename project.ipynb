{
 "cells": [
  {
   "cell_type": "code",
   "execution_count": 19,
   "id": "13e9f267-4896-4c16-9e8d-0a21a1debbea",
   "metadata": {},
   "outputs": [],
   "source": [
    "import requests as rq\n",
    "import pandas as pd\n",
    "import numpy as np\n",
    "import matplotlib.pyplot as plt\n",
    "\n",
    "from scipy import stats\n",
    "from nltk.metrics.distance import jaccard_distance"
   ]
  },
  {
   "cell_type": "markdown",
   "id": "91e237c5-b362-48cc-b95d-68ed7bb761ff",
   "metadata": {},
   "source": [
    "### Part 1. Define function for querying datamuse."
   ]
  },
  {
   "cell_type": "code",
   "execution_count": 20,
   "id": "7a1ab43f-8c91-43da-acd1-1329fcb840e1",
   "metadata": {},
   "outputs": [],
   "source": [
    "\n",
    "def query_datamuse(word, n=100):\n",
    "    query = \"https://api.datamuse.com/words?ml={}&max={}\".format(word, n)\n",
    "    response = rq.get(query)\n",
    "    results = []\n",
    "    for obj in response.json(): \n",
    "        results.append(obj[\"word\"])\n",
    "    return results"
   ]
  },
  {
   "cell_type": "code",
   "execution_count": 21,
   "id": "a972b3b1-1650-4094-835e-8a4add6d8525",
   "metadata": {},
   "outputs": [],
   "source": [
    "#Load datasets \n",
    "mc = pd.read_csv(\"data/mc.csv\", header=0, names=[\"word1\", \"word2\", \"score\"], sep=\";\")\n",
    "rg = pd.read_csv(\"data/rg.csv\", header=0, names=[\"word1\", \"word2\", \"score\"], sep=\";\")\n",
    "wordsim = pd.read_csv(\"data/wordsim.csv\", header=0, names=[\"word1\", \"word2\", \"score\"], sep=\";\")"
   ]
  },
  {
   "cell_type": "markdown",
   "id": "a6932cbf-d007-443c-ac8d-88c3d7c54cd1",
   "metadata": {},
   "source": [
    "### Part 2. Define functions for calculating jaccard similarity from dataset."
   ]
  },
  {
   "cell_type": "code",
   "execution_count": 22,
   "id": "44a1d718-a00b-410e-adaf-7011692e127c",
   "metadata": {},
   "outputs": [],
   "source": [
    "def jaccard_similarity(set1, set2): \n",
    "    return 1 - jaccard_distance(set1, set2)\n",
    "\n",
    "def datamuse_similarity(X, Y, n=100):\n",
    "    words1 = query_datamuse(X, n=n)\n",
    "    words2 = query_datamuse(Y, n=n)    \n",
    "    return jaccard_similarity(set(words1), set(words2))\n",
    "\n",
    "def calculate_similarities(df, n): \n",
    "    words1 = df[\"word1\"].tolist()\n",
    "    words2 = df[\"word2\"].tolist()\n",
    "    scores = df[\"score\"].tolist()\n",
    "\n",
    "    sim_values = []\n",
    "    for w1, w2 in zip(words1, words2): \n",
    "        sim_values.append(datamuse_similarity(w1, w2, n=n))\n",
    "        \n",
    "    p = stats.pearsonr(sim_values, scores)\n",
    "    return p\n",
    "\n"
   ]
  },
  {
   "cell_type": "code",
   "execution_count": 23,
   "id": "8569afd4",
   "metadata": {},
   "outputs": [],
   "source": [
    "p_mc_100 = calculate_similarities(mc, 100)"
   ]
  },
  {
   "cell_type": "markdown",
   "id": "ce653ba0-3764-4420-97cf-3ac950ecd1ea",
   "metadata": {},
   "source": [
    "### Find the N with highest Pearson correlation coefficient score."
   ]
  },
  {
   "cell_type": "code",
   "execution_count": 24,
   "id": "ebe20fa9-1f46-430e-a4e4-b84298e450d6",
   "metadata": {},
   "outputs": [
    {
     "name": "stdout",
     "output_type": "stream",
     "text": [
      "N: 100\n",
      "N: 200\n",
      "N: 300\n",
      "N: 400\n",
      "N: 500\n",
      "N: 600\n",
      "N: 700\n",
      "N: 800\n",
      "N: 900\n"
     ]
    }
   ],
   "source": [
    "def find_best_n(df): \n",
    "    d = {\n",
    "        \"n\": [],\n",
    "        \"statistics\": [],\n",
    "        \"pvalues\": []\n",
    "    }\n",
    "    stats = []\n",
    "    pvals = []\n",
    "    for n in range(100, 1000, 100): \n",
    "        print(\"N: {}\".format(n))\n",
    "        p = calculate_similarities(mc, n)\n",
    "        d[\"n\"].append(n)\n",
    "        d[\"statistics\"].append(p.statistic)\n",
    "        d[\"pvalues\"].append(p.pvalue)\n",
    "    \n",
    "    return d\n",
    "\n",
    "d = find_best_n(mc)\n",
    "df = pd.DataFrame.from_dict(d)"
   ]
  },
  {
   "cell_type": "code",
   "execution_count": 25,
   "id": "44957105-f741-45a9-8783-a91d6c4bf20c",
   "metadata": {},
   "outputs": [
    {
     "data": {
      "image/png": "[encoded data removed]",
      "text/plain": [
       "<Figure size 640x480 with 1 Axes>"
      ]
     },
     "metadata": {},
     "output_type": "display_data"
    }
   ],
   "source": [
    "fig, ax = plt.subplots()\n",
    "\n",
    "ax.plot(df[\"n\"], df[\"statistics\"])\n",
    "#fig.patch.set_visible(False)\n",
    "#ax.axis('off')\n",
    "#ax.axis('tight')\n",
    "#ax.table(cellText=df.values, colLabels=df.columns, loc='center')\n",
    "#fig.tight_layout()\n",
    "plt.show()"
   ]
  },
  {
   "cell_type": "code",
   "execution_count": 26,
   "id": "55596fa6-6d9e-4324-a3b3-d890b62a162f",
   "metadata": {},
   "outputs": [
    {
     "name": "stdout",
     "output_type": "stream",
     "text": [
      "600\n"
     ]
    }
   ],
   "source": [
    "# Get the N value with highest Pearson correlation coefficient score\n",
    "max_id = df['statistics'].idxmax()\n",
    "N = int(df.iloc[max_id][\"n\"])\n",
    "print(N)"
   ]
  },
  {
   "cell_type": "markdown",
   "id": "4e1fa9c9-6001-46fc-a212-a1fc2d9d28e9",
   "metadata": {},
   "source": [
    "### Calculate correlation coefficients for all datasets."
   ]
  },
  {
   "cell_type": "code",
   "execution_count": 27,
   "id": "85261e03-863b-4065-b406-2c05e2e72b67",
   "metadata": {},
   "outputs": [
    {
     "name": "stdout",
     "output_type": "stream",
     "text": [
      "PearsonRResult(statistic=np.float64(0.724072525404594), pvalue=np.float64(8.994311402784625e-06))\n",
      "PearsonRResult(statistic=np.float64(0.7850157130429563), pvalue=np.float64(1.6236618035026146e-14))\n",
      "PearsonRResult(statistic=np.float64(0.49022656405756004), pvalue=np.float64(1.1105676505687779e-22))\n"
     ]
    }
   ],
   "source": [
    "p_mc = calculate_similarities(mc, N)\n",
    "p_rg = calculate_similarities(rg, N)\n",
    "p_wordsim = calculate_similarities(wordsim, N)\n",
    "print(p_mc)\n",
    "print(p_rg)\n",
    "print(p_wordsim)"
   ]
  },
  {
   "cell_type": "markdown",
   "id": "fd0cc977",
   "metadata": {},
   "source": [
    "# Part 3 - Apply the method in part 2 on sentence level"
   ]
  },
  {
   "cell_type": "code",
   "execution_count": 28,
   "id": "47e52679-53b7-4fe4-8ef9-4ecaa72f7288",
   "metadata": {},
   "outputs": [],
   "source": [
    "# get sentence bag of similartities words\n",
    "\n",
    "def get_bag_of_words(sentence): \n",
    "    words = sentence.split(\" \")\n",
    "    bag = set(words)\n",
    "    for word in words: \n",
    "        bag = bag.union(set(query_datamuse(word, n=N)))\n",
    "    return bag\n",
    "\n",
    "def get_sentence_similarity(sentence1, sentence2):\n",
    "    bag1 = get_bag_of_words(sentence1)\n",
    "    bag2 = get_bag_of_words(sentence2)\n",
    "    return jaccard_similarity(bag1, bag2)"
   ]
  },
  {
   "cell_type": "markdown",
   "id": "12b79136",
   "metadata": {},
   "source": [
    "# Part 4"
   ]
  },
  {
   "cell_type": "code",
   "execution_count": 29,
   "id": "5ee30b4d",
   "metadata": {},
   "outputs": [],
   "source": [
    "sentence_pairs_list = [\n",
    "    [\"Today is quite hot for a winter.\", \"Never is warm in winter.\"],\n",
    "    [\"The car is running fast but has some troubles recently.\", \"Toyota cars are recalled for a fault.\"],\n",
    "    [\"The teacher cannot do it again and never again.\", \"Teacher has been prohibited from this task.\"]\n",
    "]"
   ]
  },
  {
   "cell_type": "code",
   "execution_count": 30,
   "id": "1febf641",
   "metadata": {},
   "outputs": [
    {
     "data": {
      "text/html": [
       "<div>\n",
       "<style scoped>\n",
       "    .dataframe tbody tr th:only-of-type {\n",
       "        vertical-align: middle;\n",
       "    }\n",
       "\n",
       "    .dataframe tbody tr th {\n",
       "        vertical-align: top;\n",
       "    }\n",
       "\n",
       "    .dataframe thead th {\n",
       "        text-align: right;\n",
       "    }\n",
       "</style>\n",
       "<table border=\"1\" class=\"dataframe\">\n",
       "  <thead>\n",
       "    <tr style=\"text-align: right;\">\n",
       "      <th></th>\n",
       "      <th>sentence1</th>\n",
       "      <th>sentence2</th>\n",
       "      <th>similarity</th>\n",
       "    </tr>\n",
       "  </thead>\n",
       "  <tbody>\n",
       "    <tr>\n",
       "      <th>0</th>\n",
       "      <td>Today is quite hot for a winter.</td>\n",
       "      <td>Never is warm in winter.</td>\n",
       "      <td>0.141104</td>\n",
       "    </tr>\n",
       "    <tr>\n",
       "      <th>1</th>\n",
       "      <td>The car is running fast but has some troubles ...</td>\n",
       "      <td>Toyota cars are recalled for a fault.</td>\n",
       "      <td>0.078636</td>\n",
       "    </tr>\n",
       "    <tr>\n",
       "      <th>2</th>\n",
       "      <td>The teacher cannot do it again and never again.</td>\n",
       "      <td>Teacher has been prohibited from this task.</td>\n",
       "      <td>0.175842</td>\n",
       "    </tr>\n",
       "  </tbody>\n",
       "</table>\n",
       "</div>"
      ],
      "text/plain": [
       "                                           sentence1  \\\n",
       "0                   Today is quite hot for a winter.   \n",
       "1  The car is running fast but has some troubles ...   \n",
       "2    The teacher cannot do it again and never again.   \n",
       "\n",
       "                                     sentence2  similarity  \n",
       "0                     Never is warm in winter.    0.141104  \n",
       "1        Toyota cars are recalled for a fault.    0.078636  \n",
       "2  Teacher has been prohibited from this task.    0.175842  "
      ]
     },
     "execution_count": 30,
     "metadata": {},
     "output_type": "execute_result"
    }
   ],
   "source": [
    "results = []\n",
    "for pair in sentence_pairs_list: \n",
    "    results.append(get_sentence_similarity(pair[0], pair[1]))\n",
    "\n",
    "# create a table\n",
    "d = {\n",
    "    \"sentence1\": [x[0] for x in sentence_pairs_list],\n",
    "    \"sentence2\": [x[1] for x in sentence_pairs_list],\n",
    "    \"similarity\": results\n",
    "}\n",
    "\n",
    "df = pd.DataFrame.from_dict(d)\n",
    "df"
   ]
  },
  {
   "cell_type": "code",
   "execution_count": 31,
   "id": "80452f5e-2b04-4729-b969-c94c64803adb",
   "metadata": {},
   "outputs": [
    {
     "name": "stdout",
     "output_type": "stream",
     "text": [
      "0.7385461209529627\n",
      "0.060476481368356705\n",
      "0.9839518555667001\n"
     ]
    }
   ],
   "source": [
    "print(get_sentence_similarity(\"John is very nice.\", \"Is John very nice?\"))\n",
    "print(get_sentence_similarity(\"I have a pen.\", \"Where is ink.\"))\n",
    "print(get_sentence_similarity(\"It is a dog.\", \"It is a pig.\"))"
   ]
  },
  {
   "cell_type": "code",
   "execution_count": 32,
   "id": "720ba360-4cd9-4137-a2e5-2f834e41d9b6",
   "metadata": {},
   "outputs": [],
   "source": [
    "def get_boosted_sentence_similarity(sentence1, sentence2):\n",
    "    sentence1 = sentence1[:-1]\n",
    "    sentence2 = sentence2[:-1]\n",
    "    words2 = sentence2.split(\" \")\n",
    "    lw = len(words2)\n",
    "    \n",
    "    bag1 = get_bag_of_words(sentence1)\n",
    "    r = \"\"\n",
    "    i = lw\n",
    "    for w in words2: \n",
    "        if w not in bag1: \n",
    "            r += w + \" \"   \n",
    "            i -= 1\n",
    "    bag2 = get_bag_of_words(r)\n",
    "    return ((lw - i) * jaccard_similarity(bag1, bag2) + i)/lw"
   ]
  },
  {
   "cell_type": "code",
   "execution_count": 33,
   "id": "3bccacbf-b5bc-4b51-8d86-875c4016fd8d",
   "metadata": {},
   "outputs": [
    {
     "data": {
      "text/html": [
       "<div>\n",
       "<style scoped>\n",
       "    .dataframe tbody tr th:only-of-type {\n",
       "        vertical-align: middle;\n",
       "    }\n",
       "\n",
       "    .dataframe tbody tr th {\n",
       "        vertical-align: top;\n",
       "    }\n",
       "\n",
       "    .dataframe thead th {\n",
       "        text-align: right;\n",
       "    }\n",
       "</style>\n",
       "<table border=\"1\" class=\"dataframe\">\n",
       "  <thead>\n",
       "    <tr style=\"text-align: right;\">\n",
       "      <th></th>\n",
       "      <th>sentence1</th>\n",
       "      <th>sentence2</th>\n",
       "      <th>similarity</th>\n",
       "    </tr>\n",
       "  </thead>\n",
       "  <tbody>\n",
       "    <tr>\n",
       "      <th>0</th>\n",
       "      <td>Today is quite hot for a winter.</td>\n",
       "      <td>Never is warm in winter.</td>\n",
       "      <td>0.622342</td>\n",
       "    </tr>\n",
       "    <tr>\n",
       "      <th>1</th>\n",
       "      <td>The car is running fast but has some troubles ...</td>\n",
       "      <td>Toyota cars are recalled for a fault.</td>\n",
       "      <td>0.333278</td>\n",
       "    </tr>\n",
       "    <tr>\n",
       "      <th>2</th>\n",
       "      <td>The teacher cannot do it again and never again.</td>\n",
       "      <td>Teacher has been prohibited from this task.</td>\n",
       "      <td>0.401822</td>\n",
       "    </tr>\n",
       "  </tbody>\n",
       "</table>\n",
       "</div>"
      ],
      "text/plain": [
       "                                           sentence1  \\\n",
       "0                   Today is quite hot for a winter.   \n",
       "1  The car is running fast but has some troubles ...   \n",
       "2    The teacher cannot do it again and never again.   \n",
       "\n",
       "                                     sentence2  similarity  \n",
       "0                     Never is warm in winter.    0.622342  \n",
       "1        Toyota cars are recalled for a fault.    0.333278  \n",
       "2  Teacher has been prohibited from this task.    0.401822  "
      ]
     },
     "execution_count": 33,
     "metadata": {},
     "output_type": "execute_result"
    }
   ],
   "source": [
    "results = []\n",
    "for pair in sentence_pairs_list: \n",
    "    results.append(get_boosted_sentence_similarity(pair[0], pair[1]))\n",
    "\n",
    "# create a table\n",
    "d = {\n",
    "    \"sentence1\": [x[0] for x in sentence_pairs_list],\n",
    "    \"sentence2\": [x[1] for x in sentence_pairs_list],\n",
    "    \"similarity\": results\n",
    "}\n",
    "\n",
    "df = pd.DataFrame.from_dict(d)\n",
    "df"
   ]
  },
  {
   "cell_type": "code",
   "execution_count": 34,
   "id": "dc5db658-080d-4574-9377-4d210e196e31",
   "metadata": {},
   "outputs": [
    {
     "name": "stdout",
     "output_type": "stream",
     "text": [
      "0.769559902200489\n",
      "0.3656373713380839\n",
      "1.0\n"
     ]
    }
   ],
   "source": [
    "print(get_boosted_sentence_similarity(\"John is very nice.\", \"Is John very nice?\"))\n",
    "print(get_boosted_sentence_similarity(\"I have a pen.\", \"Where is ink.\"))\n",
    "print(get_boosted_sentence_similarity(\"It is a dog.\", \"It is a pig.\"))"
   ]
  },
  {
   "cell_type": "markdown",
   "id": "78f6bc9a",
   "metadata": {},
   "source": [
    "# Part 5"
   ]
  },
  {
   "cell_type": "code",
   "execution_count": 35,
   "id": "9bdb81d8",
   "metadata": {},
   "outputs": [
    {
     "name": "stdout",
     "output_type": "stream",
     "text": [
      "Processing row 0\n",
      "Skipping row 0\n",
      "Processing row 1\n",
      "Skipping row 1\n",
      "Processing row 2\n",
      "Skipping row 2\n",
      "Processing row 3\n",
      "Skipping row 3\n",
      "Processing row 4\n",
      "Skipping row 4\n",
      "Processing row 5\n",
      "Skipping row 5\n",
      "Processing row 6\n",
      "Skipping row 6\n",
      "Processing row 7\n",
      "Skipping row 7\n",
      "Processing row 8\n",
      "Skipping row 8\n",
      "Processing row 9\n",
      "Skipping row 9\n",
      "Processing row 10\n",
      "Skipping row 10\n",
      "Processing row 11\n",
      "Skipping row 11\n",
      "Processing row 12\n",
      "Skipping row 12\n",
      "Processing row 13\n",
      "Skipping row 13\n",
      "Processing row 14\n",
      "Skipping row 14\n",
      "Processing row 15\n",
      "Skipping row 15\n",
      "Processing row 16\n",
      "Skipping row 16\n",
      "Processing row 17\n",
      "Skipping row 17\n",
      "Processing row 18\n",
      "Skipping row 18\n",
      "Processing row 19\n",
      "Skipping row 19\n",
      "Processing row 20\n",
      "Skipping row 20\n",
      "Processing row 21\n",
      "Skipping row 21\n",
      "Processing row 22\n",
      "Skipping row 22\n",
      "Processing row 23\n",
      "Skipping row 23\n",
      "Processing row 24\n",
      "Skipping row 24\n",
      "Processing row 25\n",
      "Skipping row 25\n",
      "Processing row 26\n",
      "Skipping row 26\n",
      "Processing row 27\n",
      "Skipping row 27\n",
      "Processing row 28\n",
      "Skipping row 28\n",
      "Processing row 29\n",
      "Skipping row 29\n",
      "Processing row 30\n",
      "Skipping row 30\n",
      "Processing row 31\n",
      "Skipping row 31\n",
      "Processing row 32\n",
      "Skipping row 32\n",
      "Processing row 33\n",
      "Skipping row 33\n",
      "Processing row 34\n",
      "Skipping row 34\n",
      "Processing row 35\n",
      "Skipping row 35\n",
      "Processing row 36\n",
      "Skipping row 36\n",
      "Processing row 37\n",
      "Skipping row 37\n",
      "Processing row 38\n",
      "Skipping row 38\n",
      "Processing row 39\n",
      "Skipping row 39\n",
      "Processing row 40\n",
      "Skipping row 40\n",
      "Processing row 41\n",
      "Skipping row 41\n",
      "Processing row 42\n",
      "Skipping row 42\n",
      "Processing row 43\n",
      "Skipping row 43\n",
      "Processing row 44\n",
      "Skipping row 44\n",
      "Processing row 45\n",
      "Skipping row 45\n",
      "Processing row 46\n",
      "Skipping row 46\n",
      "Processing row 47\n",
      "Skipping row 47\n",
      "Processing row 48\n",
      "Skipping row 48\n",
      "Processing row 49\n",
      "Skipping row 49\n",
      "Processing row 50\n",
      "Skipping row 50\n",
      "Processing row 51\n",
      "Skipping row 51\n",
      "Processing row 52\n",
      "Skipping row 52\n",
      "Processing row 53\n",
      "Skipping row 53\n",
      "Processing row 54\n",
      "Skipping row 54\n",
      "Processing row 55\n",
      "Skipping row 55\n",
      "Processing row 56\n",
      "Skipping row 56\n",
      "Processing row 57\n",
      "Skipping row 57\n",
      "Processing row 58\n",
      "Skipping row 58\n",
      "Processing row 59\n",
      "Skipping row 59\n",
      "Processing row 60\n",
      "Skipping row 60\n",
      "Processing row 61\n",
      "Skipping row 61\n",
      "Processing row 62\n",
      "Skipping row 62\n",
      "Processing row 63\n",
      "Skipping row 63\n",
      "Processing row 64\n",
      "Skipping row 64\n",
      "Processing row 65\n",
      "Skipping row 65\n",
      "Processing row 66\n",
      "Skipping row 66\n",
      "Processing row 67\n",
      "Skipping row 67\n",
      "Processing row 68\n",
      "Skipping row 68\n",
      "Processing row 69\n",
      "Skipping row 69\n",
      "Processing row 70\n",
      "Skipping row 70\n",
      "Processing row 71\n",
      "Skipping row 71\n",
      "Processing row 72\n",
      "Skipping row 72\n",
      "Processing row 73\n",
      "Skipping row 73\n",
      "Processing row 74\n",
      "Skipping row 74\n",
      "Processing row 75\n",
      "Skipping row 75\n",
      "Processing row 76\n",
      "Skipping row 76\n",
      "Processing row 77\n",
      "Skipping row 77\n",
      "Processing row 78\n",
      "Skipping row 78\n",
      "Processing row 79\n",
      "Skipping row 79\n",
      "Processing row 80\n",
      "Skipping row 80\n",
      "Processing row 81\n",
      "Skipping row 81\n",
      "Processing row 82\n",
      "Skipping row 82\n",
      "Processing row 83\n",
      "Skipping row 83\n",
      "Processing row 84\n",
      "Skipping row 84\n",
      "Processing row 85\n",
      "Skipping row 85\n",
      "Processing row 86\n",
      "Skipping row 86\n",
      "Processing row 87\n",
      "Skipping row 87\n",
      "Processing row 88\n",
      "Skipping row 88\n",
      "Processing row 89\n",
      "Skipping row 89\n",
      "Processing row 90\n",
      "Skipping row 90\n",
      "Processing row 91\n",
      "Skipping row 91\n",
      "Processing row 92\n",
      "Skipping row 92\n",
      "Processing row 93\n",
      "Skipping row 93\n",
      "Processing row 94\n",
      "Skipping row 94\n",
      "Processing row 95\n",
      "Skipping row 95\n",
      "Processing row 96\n",
      "Skipping row 96\n",
      "Processing row 97\n",
      "Skipping row 97\n",
      "Processing row 98\n",
      "Skipping row 98\n",
      "Processing row 99\n",
      "Skipping row 99\n",
      "Processing row 100\n",
      "Skipping row 100\n",
      "Processing row 101\n",
      "Skipping row 101\n",
      "Processing row 102\n",
      "Skipping row 102\n",
      "Processing row 103\n",
      "Skipping row 103\n",
      "Processing row 104\n",
      "Skipping row 104\n",
      "Processing row 105\n",
      "Skipping row 105\n",
      "Processing row 106\n",
      "Skipping row 106\n",
      "Processing row 107\n",
      "Skipping row 107\n",
      "Processing row 108\n",
      "Skipping row 108\n",
      "Processing row 109\n",
      "Skipping row 109\n",
      "Processing row 110\n",
      "Skipping row 110\n",
      "Processing row 111\n",
      "Skipping row 111\n",
      "Processing row 112\n",
      "Skipping row 112\n",
      "Processing row 113\n",
      "Skipping row 113\n",
      "Processing row 114\n",
      "Skipping row 114\n",
      "Processing row 115\n",
      "Skipping row 115\n",
      "Processing row 116\n",
      "Skipping row 116\n",
      "Processing row 117\n",
      "Skipping row 117\n",
      "Processing row 118\n",
      "Skipping row 118\n",
      "Processing row 119\n",
      "Skipping row 119\n",
      "Processing row 120\n",
      "Skipping row 120\n",
      "Processing row 121\n",
      "Skipping row 121\n",
      "Processing row 122\n",
      "Skipping row 122\n",
      "Processing row 123\n",
      "Skipping row 123\n",
      "Processing row 124\n",
      "Skipping row 124\n",
      "Processing row 125\n",
      "Skipping row 125\n",
      "Processing row 126\n",
      "Skipping row 126\n",
      "Processing row 127\n",
      "Skipping row 127\n",
      "Processing row 128\n",
      "Skipping row 128\n",
      "Processing row 129\n",
      "Skipping row 129\n",
      "Pearson correlation coefficient: 0.6207214473990158 p-value: 3.342555588241077e-15\n"
     ]
    }
   ],
   "source": [
    "import time\n",
    "\n",
    "# Load the STSS-131 dataset\n",
    "stss = pd.read_csv(\"data/STSS-131.tsv\", header=0, names=[\"sent1\", \"sent2\", \"score\", \"score2\"], sep=\"\\t\")\n",
    "stss[\"datamuse_similarity\"] = np.nan\n",
    "\n",
    "# Load half-completed data\n",
    "from pathlib import Path\n",
    "if (Path(\"data\")  / \"STSS-131-datamuse.tsv\").is_file():\n",
    "    stss = pd.read_csv(\"data/STSS-131-datamuse.tsv\", sep=\"\\t\")\n",
    "\n",
    "# Use this due to performance issues\n",
    "N = 200\n",
    "\n",
    "try:\n",
    "    for i, row in stss.iterrows(): \n",
    "        print(\"Processing row {}\".format(i))\n",
    "        \n",
    "        # skip if already calculated\n",
    "        if not np.isnan(stss.at[i, \"datamuse_similarity\"]):\n",
    "            print(\"Skipping row {}\".format(i))\n",
    "            continue\n",
    "\n",
    "        stss.at[i, \"datamuse_similarity\"] = get_sentence_similarity(row[\"sent1\"], row[\"sent2\"])\n",
    "        time.sleep(1)\n",
    "except Exception as e:\n",
    "    print(e)\n",
    "finally:\n",
    "    # Because of timeouts, save the results to a file\n",
    "    stss.to_csv(\"data/STSS-131-datamuse.tsv\", sep=\"\\t\", index=False)\n",
    "\n",
    "stss.head()\n",
    "\n",
    "stss_p = stats.pearsonr(stss[\"datamuse_similarity\"], stss[\"score\"])\n",
    "print(\"Pearson correlation coefficient: {} p-value: {}\".format(stss_p[0], stss_p[1]))"
   ]
  },
  {
   "cell_type": "markdown",
   "id": "53c50d60",
   "metadata": {},
   "source": [
    "# Part 6"
   ]
  },
  {
   "cell_type": "code",
   "execution_count": 36,
   "id": "1bf2d89b",
   "metadata": {},
   "outputs": [
    {
     "name": "stdout",
     "output_type": "stream",
     "text": [
      "Pearson correlation coefficient: 0.776216151106484 p-value: 2.0516274140670272e-27\n"
     ]
    }
   ],
   "source": [
    "from sklearn.feature_extraction.text import TfidfVectorizer\n",
    "from sklearn.metrics.pairwise import cosine_similarity\n",
    "\n",
    "vectorizer = TfidfVectorizer()\n",
    "tf_idf_matrix = vectorizer.fit_transform(stss[\"sent1\"], stss[\"sent2\"])\n",
    "\n",
    "cosine_similarities = []\n",
    "for i in range(len(stss)):\n",
    "    sent1_vector = vectorizer.transform([stss[\"sent1\"][i]])\n",
    "    sent2_vector = vectorizer.transform([stss[\"sent2\"][i]])\n",
    "    cosine_similarities.append(cosine_similarity(sent1_vector, sent2_vector)[0][0])\n",
    "\n",
    "tfidf_p = stats.pearsonr(cosine_similarities, stss[\"score\"])\n",
    "print(\"Pearson correlation coefficient: {} p-value: {}\".format(tfidf_p[0], tfidf_p[1]))"
   ]
  },
  {
   "cell_type": "markdown",
   "id": "d855a9a3",
   "metadata": {},
   "source": [
    "## JSON Export"
   ]
  },
  {
   "cell_type": "code",
   "execution_count": 37,
   "id": "8099e781",
   "metadata": {},
   "outputs": [],
   "source": [
    "# First create a dictionary to store the results\n",
    "data = {\n",
    "    \"Word similarity\\nMC Dataset @ N100\": {\"statistic\": p_mc_100[0], \"pvalue\": p_mc_100[1]},\n",
    "    \"Word similarity\\nMC Dataset\": {\"statistic\": p_mc[0], \"pvalue\": p_mc[1]},\n",
    "    \"Word similarity\\nRG Dataset\": {\"statistic\": p_rg[0], \"pvalue\": p_rg[1]},\n",
    "    \"Word similarity\\nWordSim Dataset\": {\"statistic\": p_wordsim[0], \"pvalue\": p_wordsim[1]},\n",
    "    \"Sent. similarity\\nSTSS-131 v. Datamuse\": {\"statistic\": stss_p[0], \"pvalue\": stss_p[1]},\n",
    "    \"Sent. similarity\\nSTSS-131 v. TF-IDF\": {\"statistic\": tfidf_p[0], \"pvalue\": tfidf_p[1]}\n",
    "}\n",
    "\n",
    "# Save the results as JSON for the gui app\n",
    "import json\n",
    "with open(Path(\"data\") / \"results.json\", \"w\") as f:\n",
    "    json.dump(data, f, indent=4)\n"
   ]
  }
 ],
 "metadata": {
  "kernelspec": {
   "display_name": "Python 3 (ipykernel)",
   "language": "python",
   "name": "python3"
  },
  "language_info": {
   "codemirror_mode": {
    "name": "ipython",
    "version": 3
   },
   "file_extension": ".py",
   "mimetype": "text/x-python",
   "name": "python",
   "nbconvert_exporter": "python",
   "pygments_lexer": "ipython3",
   "version": "3.12.2"
  }
 },
 "nbformat": 4,
 "nbformat_minor": 5
}
